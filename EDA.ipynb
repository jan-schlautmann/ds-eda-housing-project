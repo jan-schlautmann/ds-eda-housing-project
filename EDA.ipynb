{
 "cells": [
  {
   "attachments": {},
   "cell_type": "markdown",
   "metadata": {},
   "source": [
    "# EDA\n",
    "\n",
    "![](data:image/jpeg;base64,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)"
   ]
  },
  {
   "cell_type": "code",
   "execution_count": null,
   "metadata": {},
   "outputs": [],
   "source": [
    "import warnings\n",
    "\n",
    "warnings.filterwarnings(\"ignore\")\n",
    "\n",
    "import pandas as pd\n",
    "import numpy as np\n",
    "import matplotlib.pyplot as plt\n",
    "import seaborn as sns\n",
    "\n",
    "\n",
    "from matplotlib.ticker import PercentFormatter\n",
    "plt.rcParams.update({ \"figure.figsize\" : (8, 5),\"axes.facecolor\" : \"white\", \"axes.edgecolor\":  \"black\"})\n",
    "plt.rcParams[\"figure.facecolor\"]= \"w\"\n",
    "pd.plotting.register_matplotlib_converters()\n",
    "pd.set_option('display.float_format', lambda x: '%.2f' % x)\n",
    "\n",
    "\n",
    "pd.set_option('display.max_columns', 50)"
   ]
  },
  {
   "attachments": {},
   "cell_type": "markdown",
   "metadata": {},
   "source": [
    "# Stakeholder\n",
    "Timothy Stevens: Owns expensive houses in the center, needs to get rid, best timing within a year, open for renovation when profits rise."
   ]
  },
  {
   "attachments": {},
   "cell_type": "markdown",
   "metadata": {},
   "source": [
    "# Import the data"
   ]
  },
  {
   "cell_type": "code",
   "execution_count": null,
   "metadata": {},
   "outputs": [],
   "source": [
    "df = pd.read_csv(\"data/King_County_House_prices_dataset.csv\")"
   ]
  },
  {
   "attachments": {},
   "cell_type": "markdown",
   "metadata": {},
   "source": [
    "# Understanding the data\n"
   ]
  },
  {
   "cell_type": "code",
   "execution_count": null,
   "metadata": {},
   "outputs": [],
   "source": [
    "df.info()\n",
    "# waterfront and yr_renovated contain NAs\n",
    "# date needs to be converted\n",
    "# Better description of columns can be found here: https://geodacenter.github.io/data-and-lab/KingCounty-HouseSales2015/\n",
    "# Info on Zipcodes: https://gis-kingcounty.opendata.arcgis.com/datasets/zipcodes-for-king-county-and-surrounding-area-shorelines-zipcode-shore-area/explore?location=47.504243%2C-121.477600%2C8.67\n",
    "# sqft_living15 is the avarage size of living space of the closest 15 neighbours. Will help to determine if a house is bigger compared to neighbors.\n",
    "# view - An index from 0 to 4 of how good the view of the property was\n",
    "#condition - An index from 1 to 5 on the condition of the apartment,\n",
    "#grade - An index from 1 to 13, where 1-3 falls short of building construction and design, 7 has an average level of construction and design, and 11-13 have a high quality level of construction and design."
   ]
  },
  {
   "attachments": {},
   "cell_type": "markdown",
   "metadata": {},
   "source": [
    "# Research questions + hypotheses and Todo\n",
    "Stakeholder: Timothy Stevens: Owns expensive houses in the center, needs to get rid, best timing within a year, open for renovation when profits rise.\n",
    "\n",
    "Question: When is the best timing to sell houses?\n",
    "Hypothesis: The avarage price varies over the year\n",
    "\n",
    "Question: Will a recent renovation increase the selling price?\n",
    "Hypothesis: Houses renovated in the same year have a higher avarage price.\n",
    "\n",
    "Hypothesis: There is a correlation between grade and price, sqft_living and price.\n",
    "Hypothesis: View, grade and condition are positively correlated.\n",
    "\n",
    "\n",
    "Geohypo: Plot a map with $/sqft per zipcode. Hypo: Higher in seattle.\n",
    "\n",
    "\n",
    "For the EDA:\n",
    "1. Filter for houses in the center (by zipcode?). What is the center? Seattle?\n",
    "2. Define 'expensive' (80% quartile?). \n",
    "\n",
    "\n"
   ]
  },
  {
   "attachments": {},
   "cell_type": "markdown",
   "metadata": {},
   "source": [
    "# Data exploration"
   ]
  },
  {
   "cell_type": "code",
   "execution_count": null,
   "metadata": {},
   "outputs": [],
   "source": [
    "#df.hist(column=[\"price\",\"bedrooms\",\"sqft_living\",\"floors\",\"grade\",\"yr_built\",\"yr_renovated\",\"sqft_living15\"],layout=(4,2),figsize=(12,6))\n",
    "\n",
    "# There are a few very big very very expensive houses\n",
    "# Filter them for a first glance\n",
    "\n",
    "#df[df.price < 4000000].hist(column=[\"price\",\"bedrooms\",\"sqft_living\",\"floors\",\"grade\",\"yr_built\",\"yr_renovated\",\"sqft_living15\"],layout=(4,2),figsize=(12,6))\n",
    "\n",
    "# There seem to be some houses that are very high cost and/or high number of bedrooms, very high number of sqft_living. Maybe outliers? need to check.\n",
    "# Most houses have not been renovated which is sometimes a 0 and sometimes NaN !\n",
    "\n",
    "df[df.price > 7000000]\n",
    "# 45 houses over 3 million\n",
    "# 2 houses over 7 million\n",
    "\n",
    "df[df.bedrooms > 10]\n",
    "# 2 houses with more than 10 bedrooms, 33 bedrooms one is probably a typo because it is not too big.\n",
    "\n",
    "df[df.sqft_living > 8000]\n",
    "# 211 houses with over 5k sqft living\n",
    "# 9 houses with over 8k sqft living. all with high grade and a high price so probably valid data.\n",
    "\n",
    "\n",
    "\n",
    "\n",
    "# Note: Delete the 33 bedroom one, apart from that all looks 'normal'\n",
    "\n"
   ]
  },
  {
   "attachments": {},
   "cell_type": "markdown",
   "metadata": {},
   "source": [
    "# Feature engineering"
   ]
  },
  {
   "cell_type": "code",
   "execution_count": null,
   "metadata": {},
   "outputs": [],
   "source": [
    "# Seattle column. \n",
    "\n",
    "# Zip codes for seattle\n",
    "#sorted(df.zipcode.unique())\n",
    "\n",
    "# Seattle Zipcodes range from 98101-98199 (only 64 are taken)(https://www.zipcode.com.ng/2022/12/seattle-zip-codes-wa.html)\n",
    "\n",
    "df[\"seattle\"] = df.zipcode.between(98101,98200)\n",
    "df.groupby(\"seattle\").mean()\n",
    "\n",
    "# Interestingly the avarage price does not differ, but houses within Seattle are smaller, with fewer bed and bathrooms and the lot is much smaller.\n",
    "\n",
    "\n"
   ]
  },
  {
   "cell_type": "code",
   "execution_count": null,
   "metadata": {},
   "outputs": [],
   "source": [
    "# Price per sqft\n",
    "\n",
    "\n",
    "df[\"price_sqft_liv\"] = df.price / df.sqft_living\n",
    "df[\"price_sqft_lot\"] = df.price / df.sqft_lot\n",
    "df.groupby(\"seattle\").mean()\n",
    "\n",
    "# Price per sqft is higher in seattle compared to the outskirts. However, the difference is even higher for the lot price.\n"
   ]
  },
  {
   "cell_type": "code",
   "execution_count": null,
   "metadata": {},
   "outputs": [],
   "source": [
    "# Center = Seattle might not be the best definition.\n",
    "# Alternatively, I will use the Top10 Zipcodes with the highest population density according to: http://www.usa.com/rank/king-county-wa--population-density--zip-code-rank.htm?yr=9000&dis=&wist=&plow=&phigh=\n",
    "# I just saw that the top2 ZipCodes only have a population of 70 people and are admin buildings. So I take Top3-Top12\n",
    "df[\"center\"] = df.zipcode.isin([98119,98117,98121,98101,98104,98102,98122,98109,98107,98103])\n",
    "\n",
    "df.groupby([\"seattle\",\"center\"]).mean()\n",
    "# Very cool. Price per sqft rises from rural -> seattle -> center"
   ]
  },
  {
   "cell_type": "code",
   "execution_count": null,
   "metadata": {},
   "outputs": [],
   "source": [
    "# What is expensive?\n",
    "# Upper 20% ?!\n",
    "# To check if general assumptions hold true for expensive houses (like Tim owns them) as well.\n",
    "df[\"expensive\"] = pd.qcut(df.price,5,[1,2,3,4,5])"
   ]
  },
  {
   "attachments": {},
   "cell_type": "markdown",
   "metadata": {},
   "source": [
    "# Data Cleaning"
   ]
  },
  {
   "cell_type": "code",
   "execution_count": null,
   "metadata": {},
   "outputs": [],
   "source": [
    "# Drop the 33 bedroom row.\n",
    "df = df[df.bedrooms < 33]\n",
    "\n",
    "# get the date right\n",
    "df[\"date\"] = pd.to_datetime(df.date, format= '%m/%d/%Y')\n",
    "\n",
    "## year renovated has some strange data according to the histograms\n",
    "#df.yr_renovated \n",
    "# Seems that non-renovated houses either have a NaN or a 0. Convert 0 to NaN\n",
    "df[\"yr_renovated\"] = df[\"yr_renovated\"].replace(0,np.nan)\n",
    "df[\"yr_renovated\"].hist() # Looking better now.\n",
    "\n",
    "print(df.date.dtypes)\n"
   ]
  },
  {
   "attachments": {},
   "cell_type": "markdown",
   "metadata": {},
   "source": [
    "# Correlations\n"
   ]
  },
  {
   "cell_type": "code",
   "execution_count": null,
   "metadata": {},
   "outputs": [],
   "source": [
    "# 1. condition, view and grade\n",
    "df[[\"grade\",\"view\",\"condition\",\"seattle\"]].groupby(\"seattle\").corr()\n",
    "# Grade and view are marginally correlated, but condition isn't. Might be worth to deepdive in what exactly they mean.\n",
    "# View = quality der Besichtigung???\n",
    "# Grade = How well is it constructed?\n",
    "# Condition = Wie gut ist es in Schuss?!\n",
    "\n",
    "# What influences the price?\n",
    "df[[\"grade\",\"view\",\"condition\",\"seattle\"]].groupby(\"seattle\").corr()\n",
    "corr_mat_price = df.drop([\"id\",\"date\",\"waterfront\",\"zipcode\",\"lat\",\"long\",\"seattle\"],axis=1).corr()\n",
    "sns.heatmap(corr_mat_price[[\"price\"]], cmap=\"viridis\")\n",
    "corr_mat_price[[\"price\"]]\n",
    "# Factors influencing the price (> 50%)\n",
    "# Bathrooms, sqft-living, grade, sqft_above, sqft_living15\n",
    "# However, yr_renovated doesnt make sense without changing it!!!\n",
    "\n",
    "\n",
    "### Note: Scatter\n",
    "corr_mat_price"
   ]
  },
  {
   "attachments": {},
   "cell_type": "markdown",
   "metadata": {},
   "source": [
    "# Answering research questions\n",
    "# 1. How does selling price fluctuate over the year"
   ]
  },
  {
   "cell_type": "code",
   "execution_count": null,
   "metadata": {},
   "outputs": [],
   "source": [
    "df.date.value_counts() # there are days with only 1 sale per day so might not be a good idea to aggregate per day.\n",
    "df.date.dt.week.value_counts() # looks better\n",
    "\n",
    "# However there is some overlap in May. So lets make a better week column.\n",
    "df.date.describe()\n",
    "df[\"week\"] = (df[\"date\"] - pd.to_datetime(\"2014-05-02\")).dt.days // 7 + 1\n",
    "\n",
    "df.week.value_counts() # Almost no data in the last two weeks. Get rid of it, since we have data on the timespan of 1 year.\n",
    "\n",
    "df_weekly = df[df.week < 55]\n",
    "\n",
    "df_weekly.groupby(\"week\").mean(\"price_sqft_liv\").reset_index().plot.line(x=\"week\",y=\"price_sqft_liv\")\n",
    "# A lot of week to week variation and generally speaking the avg sales price varies by up to 15% depending on time.\n",
    "# It seems like Sale prices in weeks 48 - 54 are a bit higher which would be End of March - Beginning of July \n",
    "\n",
    "# Lets check data on that assumption:\n",
    "df_weekly[\"high_price\"] = df_weekly.week.isin(list(range(48,55)))\n",
    "df_weekly.groupby(\"high_price\").mean()\n",
    "# The avarage selling price in the above mentioned time span is 20$/sqft higher. However, the high week2week variation needs to be considered.\n",
    "# Also this trend was only true in 2015. So something else might have triggered it.\n",
    "# But generally the first half of the year seems to be better suited.\n",
    "df_weekly[\"firsthalf\"] = df_weekly.date.dt.month.isin([1,2,3,4,5,6])\n",
    "df_weekly.groupby(\"firsthalf\").price_sqft_liv.mean()\n",
    "\n",
    "\n",
    "\n",
    "\n",
    "\n",
    "\n",
    "\n",
    "# Follow up.\n",
    "# Does this hold true for the center as well????\n",
    "\n",
    "\n"
   ]
  },
  {
   "cell_type": "code",
   "execution_count": null,
   "metadata": {},
   "outputs": [],
   "source": [
    "# Is this true for center and/or expensive houses as well?\n",
    "df_weekly_cent = df_weekly[(df_weekly.center == True)] #2107\n",
    "df_weekly_cent.groupby(\"week\").mean(\"price_sqft_liv\").reset_index().plot.line(x=\"week\",y=\"price_sqft_liv\") # Same 2015 increase trend\n",
    "\n",
    "\n",
    "df_weekly_exp = df_weekly[(df_weekly.expensive == 5)] #4319\n",
    "df_weekly_exp.groupby(\"week\").mean(\"price_sqft_liv\").reset_index().plot.line(x=\"week\",y=\"price_sqft_liv\") # Same 2015 increase trend\n",
    "\n"
   ]
  },
  {
   "attachments": {},
   "cell_type": "markdown",
   "metadata": {},
   "source": [
    "# 2. Does a recent renovation increase the selling price?"
   ]
  },
  {
   "cell_type": "code",
   "execution_count": null,
   "metadata": {},
   "outputs": [],
   "source": [
    "# Things to consider: Drop recently built houses since they will have a high selling price and no renovation yet.\n",
    "# Lets randomly go up to yr_built 2000 and define recently as \"within the last 5 years\". DOESNT REALLY INFLUENCE IT.\n",
    "df_reno = df\n",
    "\n",
    "sorted(df_reno.yr_renovated.unique()) #even some renovated in 2015\n",
    "df_reno.yr_renovated.value_counts() # Wow, most were renovated in 2014\n",
    "\n",
    "df_reno[\"recent_reno\"] = df_reno.yr_renovated.isin([2010,2011,2012,2013,2014,2015])\n",
    "sum(df_reno[\"recent_reno\"]) # 150\n",
    "\n",
    "# The number is relatively low but let's see what it does:\n",
    "df_reno.groupby(\"recent_reno\").mean() # The price is higher even after correcting for the difference in sqft_living (see price per sqft).\n",
    "# There seems to be a high demand for newly renovated houses.\n",
    "\n",
    "# Lets compare it with houses that were never renovated\n",
    "# But be careful we don't know if initial NaN values mean no renovation of if its reno_date is unknown.\n",
    "\n",
    "df_reno[\"renovated\"] = ~df_reno.yr_renovated.isna() # The ~ reverts True and False apparently.\n",
    "df_reno.groupby(\"renovated\").mean()\n",
    "# A renovation no matter if recent or not increases the avarage sale price.\n",
    "\n",
    "df_reno.groupby([\"renovated\",\"recent_reno\"]).mean()\n",
    "# The main difference (price / sqft) is between no renovated and renovated. a recent_renovation only rises the price every to slightly.\n",
    "# Timothy should therefore only renovate those houses that have never been renovated.\n",
    "pd.pivot_table(df_reno, values=\"price_sqft_liv\", index=\"renovated\", columns=\"recent_reno\")\n",
    "\n",
    "\n",
    "\n",
    "\n",
    "# Further question:\n",
    "# Is there a yr_renovated threshold were the price of renovated == unrenovated, No there isnt!\n",
    "\n",
    "# Do the groupby in pivot_table\n",
    "\n",
    "# Careful because of lower n. 744 renovated.\n",
    "\n",
    "# check again if 0 = NaN or if it can be split further. See bottom.\n"
   ]
  },
  {
   "cell_type": "code",
   "execution_count": null,
   "metadata": {},
   "outputs": [],
   "source": [
    "# Calculate mean of unrenovated houses in expensive=5 bucket, create qcut-bins for the renovated houses for the yr column and check their mean prices\n",
    "\n",
    "df_reno[(df_reno.renovated == False) & (df_reno.expensive == 5)].price_sqft_liv.mean() # 346$\n",
    "\n",
    "df_reno[(df_reno.renovated == True)  & (df_reno.expensive == 5)].shape # Only 313 renovated in expensive = 5. Will be further devided by qcut. Grain of salt!\n",
    "\n",
    "df_reno_exp = df_reno[(df_reno.renovated == True)  & (df_reno.expensive == 5)]\n",
    "\n",
    "df_reno_exp[\"reno_bin\"] = pd.qcut(df_reno_exp.yr_renovated,5)\n",
    "\n",
    "df_reno_exp.groupby(\"reno_bin\").price_sqft_liv.mean()\n",
    "\n",
    "\n",
    "# A renovation no matter when makes a house more expensive!\n"
   ]
  },
  {
   "cell_type": "code",
   "execution_count": null,
   "metadata": {},
   "outputs": [],
   "source": [
    "df_reno.groupby([\"renovated\",\"expensive\"]).size()\n",
    "\n",
    "# Expensive houses are more often renovated\n",
    "# Or:\n",
    "# Houses GET expensive after renovation."
   ]
  },
  {
   "attachments": {},
   "cell_type": "markdown",
   "metadata": {},
   "source": [
    "# Careful does not hold true for center house !!!"
   ]
  },
  {
   "cell_type": "code",
   "execution_count": null,
   "metadata": {},
   "outputs": [],
   "source": [
    "\n",
    "df_reno.groupby(\"renovated\").price_sqft_liv.mean() #262.10 vs 321.34 $/sqft\n",
    "df_reno.query(\"expensive == 5\").groupby(\"renovated\").size()                         #4k vs 313\n",
    "df_reno.query(\"center == True\").groupby(\"renovated\").size()                         #1k vs 116\n",
    "df_reno.query(\"center == True & expensive == 5\").groupby(\"renovated\").size()        #515 vs 67\n",
    "\n",
    "df_reno.query(\"expensive == 5\").groupby(\"renovated\").price_sqft_liv.mean()                         #345 vs 404\n",
    "df_reno.query(\"center == True\").groupby(\"renovated\").price_sqft_liv.mean()                      #381 vs 378\n",
    "df_reno.query(\"center == True & expensive == 5\").groupby(\"renovated\").price_sqft_liv.mean()       #411 vs 403\n",
    "\n",
    "\n",
    "\n",
    "###### What if we go back to our center = Seattle definition?\n",
    "df_reno.query(\"seattle == True\").groupby(\"renovated\").price_sqft_liv.mean() \n",
    "#df_reno.query(\"seattle == True\").groupby(\"renovated\").price_sqft_liv.mean() \n",
    "#df_reno.query(\"seattle == True & expensive == 5\").groupby(\"renovated\").price_sqft_liv.mean() \n",
    "\n",
    "#pd.pivot_table(df_reno,values=\"price_sqft_liv\",index=\"renovated\",columns=[\"expensive\",\"seattle\"], margins=True, aggfunc=\"mean\")\n",
    "\n",
    "#df_reno.query(\"expensive == 5\").groupby(\"renovated\").price_sqft_liv.mean()    \n",
    "#df_reno.query(\"center == True & expensive == 5\").groupby(\"renovated\").price_sqft_liv.mean()           "
   ]
  },
  {
   "attachments": {},
   "cell_type": "markdown",
   "metadata": {},
   "source": [
    "Decisions made:\n",
    "\n",
    "1. yr_renovated 0 -> NaN.\n",
    "I first thought that rows containing a 0 might mean 'not renovated' and NaN could mean 'renovated but unsure when'.\n",
    "But when I looked closer at those houses with NaN I found that some of them were built only very recently and I think it is safe to assume that they haven't been renovated yet. Therefore I decided to group 0s and NaNs together as 'not renovated', or at least not recently renovated which is important for my client.\n",
    "Additionally the price_sqft_liv is not too different between those two groups: 261 vs 265\n",
    "\n"
   ]
  },
  {
   "attachments": {},
   "cell_type": "markdown",
   "metadata": {},
   "source": [
    "# Plots"
   ]
  },
  {
   "cell_type": "code",
   "execution_count": null,
   "metadata": {},
   "outputs": [],
   "source": [
    "df.price_sqft_liv.mean()"
   ]
  },
  {
   "cell_type": "code",
   "execution_count": null,
   "metadata": {},
   "outputs": [],
   "source": [
    "# Time Series\n",
    "from scipy.stats import iqr\n",
    "\n",
    "grpweek = df_weekly.groupby(\"week\")\n",
    "df_weekplot = grpweek.mean(\"price_sqft_liv\").reset_index()\n",
    "#df_weekplot_sd = df_weekly.groupby(\"week\").iqr(\"price_sqft_liv\").reset_index()\n",
    "\n",
    "#grpweek = df_weekly.groupby(\"week\")\n",
    "df_weekplot[\"iqr\"] = grpweek.quantile(0.40).reset_index().price_sqft_liv - grpweek.quantile(0.50).reset_index().price_sqft_liv\n",
    "\n",
    "#print(df_weekplot)\n",
    "\n",
    "fig = plt.figure(figsize=(15,7))\n",
    "\n",
    "plt.title(\"Avg. price per sqft living space over the year\",  fontsize = 18)\n",
    "#plt.xlim(0.5,3.5)\n",
    "#plt.ylim(0,440)\n",
    "#plt.xticks([1,2,3],[\"All price classes, King County\", \"Expensive, King County\", \"Expensive, Center\"], fontsize = 16)\n",
    "#plt.yticks(fontsize = 16)\n",
    "#plt.ylabel(\"Price per sqft living space\", fontsize = 16)\n",
    "\n",
    "plt.plot(df_weekplot.week, df_weekplot.price_sqft_liv, c = \"blue\",linewidth=3)\n",
    "plt.fill_between(df_weekplot.week, df_weekplot.price_sqft_liv + df_weekplot.iqr, df_weekplot.price_sqft_liv - df_weekplot.iqr, alpha=0.5,color=\"lightblue\")\n",
    "\n",
    "plt.xlim(0,55)\n",
    "plt.ylabel(\"Price per sqft living space\", fontsize = 16)\n",
    "plt.yticks(fontsize = 16)\n",
    "plt.xticks(fontsize = 16)\n",
    "\n",
    "plt.xticks([1,18,36, 54],[\"May 2014\", \"September 2014\", \"January 2015\", \"May 2015\"], fontsize = 16)\n",
    "\n",
    "plt.axhline(y = 264, color='r', linestyle = \"dotted\", alpha = 0.8)\n",
    "\n"
   ]
  },
  {
   "cell_type": "code",
   "execution_count": null,
   "metadata": {},
   "outputs": [],
   "source": [
    "# Renovations\n",
    "fig = plt.figure(figsize=(15,5))\n",
    "\n",
    "plt.title(\"Avg. price per sqft living space in renovated vs unrenovated houses\",  fontsize = 18)\n",
    "plt.xlim(0.5,3.5)\n",
    "plt.ylim(0,440)\n",
    "plt.xticks([1,2,3],[\"All price classes, King County\", \"Expensive, King County\", \"Expensive, Center\"], fontsize = 16)\n",
    "plt.yticks(fontsize = 16)\n",
    "plt.ylabel(\"Price per sqft living space\", fontsize = 16)\n",
    "\n",
    "\n",
    "# Bar 1\n",
    "plt.bar(x = 1, height = 262.10, color = 'r', label = \"not renovated\")\n",
    "plt.bar(x = 1, height = 321.34 - 262.10, bottom = 262.10, color = \"b\", label = \"renovated\")\n",
    "plt.text(1, 331, \"+ 18 %\", va=\"center\", ha=\"center\", weight = \"bold\", fontsize = 16)\n",
    "\n",
    "# Bar 2\n",
    "plt.bar(x = 2, height = 345.86, color = 'r')\n",
    "plt.bar(x = 2, height = 404.57 - 345.86, bottom = 345.86, color = \"b\")\n",
    "plt.text(2, 415.5, \"+ 15 %\", va=\"center\", ha=\"center\", weight = \"bold\",  fontsize = 16)\n",
    "\n",
    "# Bar 3\n",
    "plt.bar(x = 3, height = 402.89, color = 'b')\n",
    "plt.bar(x = 3, height = 410.58 - 402.89, bottom = 402.89, color = \"r\")\n",
    "plt.text(3, 420, \"- 2 %\", va=\"center\", ha=\"center\", weight = \"bold\",  fontsize = 16)\n",
    "\n",
    "legend = plt.legend(frameon=False, ncol=2,loc = \"center\", fontsize = 16)\n",
    "legend.set_bbox_to_anchor((0.5, -0.13))\n",
    "\n",
    "\n",
    "\n",
    "\n"
   ]
  },
  {
   "attachments": {},
   "cell_type": "markdown",
   "metadata": {},
   "source": [
    "# 3. Price sqft in relation to size"
   ]
  },
  {
   "cell_type": "code",
   "execution_count": null,
   "metadata": {},
   "outputs": [],
   "source": [
    "from matplotlib.patches import Patch\n",
    "from matplotlib.lines import Line2D\n",
    "# Check if the relationship between price sqft and size is linear or quadratic\n",
    "\n",
    "# Filter for expensive and center\n",
    "df_expcen = df.query(\"center == True & expensive == 5 & sqft_living < 7500\")\n",
    "\n",
    "#df_expcen.plot.scatter(\"sqft_living\",\"price_sqft_liv\")\n",
    "\n",
    "# The lower boundary/isocline is created artificially. Everything below would be put into expensive = 4 category.\n",
    "# However, it shows the minimum price Timothy should ask for IF his apartments are really to be considered good/expensive (i.e. in the top-20%)\n",
    "# From the limited amount of data we have it seems that people who want to buy really big houses are willing to pay above-avg price_sqft!\n",
    "\n",
    "\n",
    "fig = plt.figure(figsize=(15,7))\n",
    "\n",
    "plt.title(\"Price per sqft living space vs the available living space for expensive houses in the center\",  fontsize = 18)\n",
    "#plt.xlim(0.5,3.5)\n",
    "#plt.ylim(0,440)\n",
    "#plt.xticks([1,2,3],[\"All price classes, King County\", \"Expensive, King County\", \"Expensive, Center\"], fontsize = 16)\n",
    "plt.yticks(fontsize = 16)\n",
    "plt.xticks(fontsize = 16)\n",
    "plt.xlabel(\"Living space in square foot\", fontsize = 16)\n",
    "plt.ylabel(\"Price per square foot living space\", fontsize = 16)\n",
    "\n",
    "plt.scatter(df_expcen.sqft_living, df_expcen.price_sqft_liv)\n",
    "\n",
    "\n",
    "# Make spline / smooth line\n",
    "from scipy.interpolate import interp1d\n",
    "\n",
    "#x = np.array([950, 1420, 2000, 3000, 4000,4400])\n",
    "#y = np.array([780, 480, 345, 240, 180,165])\n",
    "\n",
    "x = np.linspace(950,4500,3550)\n",
    "#y = 4101.93 - 1720.91*(x**0.10004)\n",
    "\n",
    "y = (1140550635652613*𝑥**6/353416063178198154960000000000000)-(113391156678593029*𝑥**5/1860084543043148184000000000000)+(41918112865053924659*𝑥**4/88354015794549538740000000000)-(6895232119610205030013*𝑥**3/3534160631781981549600000000)+(388030040033649492163*𝑥**2/86199039799560525600000)-(2502634408052936702897*𝑥/441770078972747693700)+(265855351398709790960/77503522626797841)\n",
    "\n",
    "#cubic_interpolation_model = interp1d(x, y, kind = \"cubic\")\n",
    "\n",
    "# Plotting the Graph\n",
    "#X_=np.linspace(x.min(), x.max(), 500)\n",
    "#Y_=cubic_interpolation_model(X_)\n",
    " \n",
    "plt.plot(x,y, c=\"red\" )\n",
    "\n",
    "plt.axhline(y = 409, color='r', linestyle = \"dotted\", alpha = 0.8)\n",
    "\n",
    "legend_elements = [Line2D([0], [0], color='red', lw=3, label='Lower boundary for \"expensive\" category'),\n",
    "                   Line2D([0], [0], color=\"red\", lw=3, linestyle = \"dotted\", label='Avg. price per sqft')]\n",
    "legend = plt.legend(handles=legend_elements, loc='center', frameon=False, ncol=2, fontsize = 15.5)\n",
    "legend.set_bbox_to_anchor((0.5, -0.15))\n",
    "\n",
    "\n"
   ]
  },
  {
   "cell_type": "code",
   "execution_count": null,
   "metadata": {},
   "outputs": [],
   "source": []
  },
  {
   "attachments": {},
   "cell_type": "markdown",
   "metadata": {},
   "source": [
    "# Outlook\n",
    "\n",
    "1. Why is renovation in center not important?\n",
    "\n",
    "2. Was the increase of prices in May 2015 triggered by something?"
   ]
  },
  {
   "cell_type": "code",
   "execution_count": null,
   "metadata": {},
   "outputs": [],
   "source": [
    "###### Redoing time series but with biweekly or monthly\n",
    "\n",
    "df.date.value_counts() # there are days with only 1 sale per day so might not be a good idea to aggregate per day.\n",
    "df.date.dt.week.value_counts() # looks better\n",
    "\n",
    "# However there is some overlap in May. So lets make a better week column.\n",
    "df.date.describe()\n",
    "\n",
    "df_month = df.copy()\n",
    "\n",
    "df_month[\"month\"] = (df[\"date\"] - pd.to_datetime(\"2014-05-02\")).dt.days // 30 + 1\n",
    "\n",
    "df_month = df_month[df_month.month < 14]\n",
    "\n",
    "df_month.month.value_counts() # Almost no data in the last two weeks. Get rid of it, since we have data on the timespan of 1 year.\n",
    "\n",
    "\n",
    "\n",
    "df_month.groupby(\"month\").mean(\"price_sqft_liv\").reset_index().plot.line(x=\"month\",y=\"price_sqft_liv\")\n",
    "# A lot of week to week variation and generally speaking the avg sales price varies by up to 15% depending on time.\n",
    "# It seems like Sale prices in weeks 48 - 54 are a bit higher which would be End of March - Beginning of July \n",
    "\n",
    "# Lets check data on that assumption:\n",
    "#df_month[\"high_price\"] = df_month.week.isin(list(range(48,55)))\n",
    "#df_month.groupby(\"high_price\").mean()\n",
    "# The avarage selling price in the above mentioned time span is 20$/sqft higher. However, the high week2week variation needs to be considered.\n",
    "# Also this trend was only true in 2015. So something else might have triggered it.\n",
    "# But generally the first half of the year seems to be better suited.\n",
    "#df_month[\"firsthalf\"] = df_month.date.dt.month.isin([1,2,3,4,5,6])\n",
    "#df_month.groupby(\"firsthalf\").price_sqft_liv.mean()\n",
    "\n"
   ]
  },
  {
   "cell_type": "code",
   "execution_count": null,
   "metadata": {},
   "outputs": [],
   "source": [
    "#from scipy.stats import iqr\n",
    "from matplotlib.patches import Patch\n",
    "from matplotlib.lines import Line2D\n",
    "\n",
    "grpweek = df_month.groupby(\"month\")\n",
    "df_weekplot = grpweek.mean(\"price_sqft_liv\").reset_index()\n",
    "#df_weekplot_sd = df_weekly.groupby(\"week\").iqr(\"price_sqft_liv\").reset_index()\n",
    "\n",
    "#grpweek = df_weekly.groupby(\"week\")\n",
    "df_weekplot[\"iqr\"] = grpweek.quantile(0.40).reset_index().price_sqft_liv - grpweek.quantile(0.50).reset_index().price_sqft_liv\n",
    "\n",
    "#print(df_weekplot)\n",
    "\n",
    "fig = plt.figure(figsize=(15,7))\n",
    "\n",
    "plt.title(\"Avg. price per sqft living space over the year\",  fontsize = 18)\n",
    "#plt.xlim(0.5,3.5)\n",
    "#plt.ylim(0,440)\n",
    "#plt.xticks([1,2,3],[\"All price classes, King County\", \"Expensive, King County\", \"Expensive, Center\"], fontsize = 16)\n",
    "#plt.yticks(fontsize = 16)\n",
    "#plt.ylabel(\"Price per sqft living space\", fontsize = 16)\n",
    "\n",
    "plt.plot(df_weekplot.month, df_weekplot.price_sqft_liv, c = \"blue\",linewidth=3)\n",
    "plt.fill_between(df_weekplot.month, df_weekplot.price_sqft_liv + df_weekplot.iqr, df_weekplot.price_sqft_liv - df_weekplot.iqr, alpha=0.5,color=\"lightblue\")\n",
    "\n",
    "plt.xlim(0.9,13.1)\n",
    "plt.ylabel(\"Price per sqft living space\", fontsize = 16)\n",
    "plt.yticks(fontsize = 16)\n",
    "plt.xticks(fontsize = 16)\n",
    "\n",
    "plt.xticks([1,4,7,10,13],[\"May 2014\", \"August 2014\", \"November 2014\", \"Februar 2015\", \"May 2015\"], fontsize = 16)\n",
    "\n",
    "plt.axhline(y = 264, color='r', linestyle = \"dotted\", alpha = 0.8)\n",
    "\n",
    "#plt.legend()\n",
    "#legend\n",
    "#legend.set_bbox_to_anchor((0.5, -0.1))\n",
    "\n",
    "legend_elements = [Line2D([0], [0], color='b', lw=3, label='Avg. price per sqft / month'),\n",
    "                   Line2D([0], [0], color=\"red\", lw=3, linestyle = \"dotted\", label='Avg. price per sqft',\n",
    "                          markerfacecolor='g', markersize=15),\n",
    "                   Patch(facecolor='lightblue', edgecolor='lightblue', alpha = 0.8,\n",
    "                         label='40 - 60% quartile')]\n",
    "\n",
    "legend = plt.legend(handles=legend_elements, loc='center', frameon=False, ncol=3, fontsize = 15.5)\n",
    "legend.set_bbox_to_anchor((0.5, -0.1))\n"
   ]
  },
  {
   "attachments": {},
   "cell_type": "markdown",
   "metadata": {},
   "source": [
    "# Map\n"
   ]
  },
  {
   "cell_type": "code",
   "execution_count": null,
   "metadata": {},
   "outputs": [],
   "source": [
    "import numpy as np\n",
    "import pandas as pd\n",
    "import matplotlib.pyplot as plt\n",
    "\n",
    "#df = zipcode_data[['ZIP_Code','County_Name','Cluster']]\n",
    "import plotly.express as px\n",
    "from urllib.request import urlopen\n",
    "import json\n",
    "with urlopen('https://raw.githubusercontent.com/OpenDataDE/State-zip-code-GeoJSON/master/wa_washington_zip_codes_geo.min.json') as response:\n",
    "    zipcodes = json.load(response)\n",
    "\n",
    "\n",
    "\n"
   ]
  },
  {
   "cell_type": "code",
   "execution_count": null,
   "metadata": {},
   "outputs": [],
   "source": [
    "#zip_code = []\n",
    "#for i in range(len(zipcodes['features'])):\n",
    "#    code = zipcodes['features'][i]['properties']['ZCTA5CE10']\n",
    "#    zip_code.append(code)\n",
    "\n",
    "zips = [98052,98092,98115,98103,98003,98023,98105,98042,98034,98133,98118,98125,98058,98031,98122,98033,98032,98004,98059,98001,98006,98056,98030,98155,98168,98117,98002,98198,98038,98029,98027,98109,98074,98144,98007,98040,98072,98146,98011,98107,98106,98188,98008,98178,98108,98075,98028,98112,98119,98055,98053,98102,98022,98126,98116,98005,98121,98199,98177,98166,98136,98045,98077,98101,98057,98065,98104,98019,98148,98014,98354,98070,98010,98024,98051,98047,98151,98251,98134,98039,98195,98158,98154,98161,98174,98068,98256,98288,98050,98132,98171,98184,98054,98164,98181,98224,98191,98009,98013,98015,98025,98035,98041,98062,98064,98063,98071,98073,98083,98089,98093,98111,98113,98114,98124,98127,98131,98129,98139,98138,98141,98145,98160,98165,98170,98175,98185,98190,98194,98471,98481]\n",
    "\n",
    "df_zips = pd.DataFrame({'zips': zips})\n",
    "\n",
    "\n",
    "price_zip = df.groupby(\"zipcode\").price_sqft_liv.mean().reset_index()\n",
    "\n",
    "price_zip\n",
    "\n",
    "\n",
    "\n"
   ]
  },
  {
   "cell_type": "code",
   "execution_count": null,
   "metadata": {},
   "outputs": [],
   "source": [
    "import plotly.express as px\n",
    "\n",
    "fig = px.choropleth(price_zip,\n",
    "                    geojson= zipcodes,\n",
    "                    locations='zipcode',\n",
    "                    color = \"price_sqft_liv\",\n",
    "                    featureidkey=\"properties.ZCTA5CE10\",\n",
    "                    projection=\"mercator\",\n",
    "                    width = 800,\n",
    "                    height = 700,\n",
    "                    color_continuous_scale=px.colors.sequential.haline_r,\n",
    "                    )\n",
    "\n",
    "fig.update_geos(fitbounds=\"locations\", visible=False)\n",
    "fig.update_layout(margin={\"r\":0,\"t\":0,\"l\":0,\"b\":0}, coloraxis_colorbar = dict(title = \"Price per sqft\", ticksuffix = \" $\", tickvals = [150,250,350,450,550]))\n",
    "#fig.update_coloraxes(colorbar_tickvals = [150,250,350,450,550], colorbar_ticklabels= [\"150$\",\"250$\",\"350$\",\"450$\",\"550$\"])\n",
    "fig.show()"
   ]
  },
  {
   "cell_type": "code",
   "execution_count": null,
   "metadata": {},
   "outputs": [],
   "source": [
    "zipdens = df = pd.read_csv(\"zip_pop_density.csv\", sep= '\\t')\n",
    "\n",
    "zipdens.columns = [\"rank\", \"popdens\", \"zip\"]\n",
    "\n",
    "zipdens[\"popdens\"] = zipdens.popdens.str.replace(\"/sq mi\",\"\")\n",
    "zipdens[\"popdens\"] = zipdens.popdens.str.replace(\",\",\"\").astype(\"float\")\n",
    "zipdens.head()\n",
    "zipdens[\"zipcode\"] = [int(x.split(\" \")[0]) for x in zipdens.zip]\n",
    "#zipdens[\"popdens\"] = zipdens.popdens.\n",
    "\n",
    "\n",
    "\n",
    "zipdensprice = pd.merge(zipdens,price_zip, on = \"zipcode\")\n",
    "\n",
    "\n",
    "\n",
    "zipdensprice.corr(method=\"spearman\")\n",
    "\n",
    "zipdensprice.plot.scatter(\"popdens\",\"price_sqft_liv\")\n",
    "\n",
    "zipdensprice.sort_values(\"price_sqft_liv\")\n",
    "\n",
    "# from scipy.stats import spearmanr\n",
    "\n",
    "# zipdensprice.plot.scatter(\"popdens\",\"price_sqft_liv\")\n",
    "# spearmanr(zipdensprice.popdens, zipdensprice.price_sqft_liv)\n"
   ]
  },
  {
   "cell_type": "code",
   "execution_count": null,
   "metadata": {},
   "outputs": [],
   "source": [
    "import plotly.express as px\n",
    "fig = px.scatter(zipdensprice, x= \"popdens\", y =\"price_sqft_liv\", trendline=\"ols\",\n",
    "           labels={\n",
    "                     \"popdens\": \"Population density per sq mi\",\n",
    "                     \"price_sqft_liv\": \"Price per sqft living space\"})\n",
    "\n",
    "fig.update_yaxes(tickvals = [150, 250, 350, 450, 550], ticksuffix = \" $\", showgrid = False)\n",
    "fig.update_xaxes(tickvals = [0, 5000, 10000, 15000], ticktext = [\"0\", \"5000\", \"10000\", \"15000\"], showgrid = False, range=[0,15000])\n",
    "fig.update_layout(template = \"simple_white\", width= 800, height=600)\n",
    "\n",
    "\n",
    "#zipdensprice"
   ]
  },
  {
   "cell_type": "code",
   "execution_count": null,
   "metadata": {},
   "outputs": [],
   "source": [
    "# Renovations\n",
    "fig = plt.figure(figsize=(15,5))\n",
    "\n",
    "plt.title(\"Avg. price per sqft living space in renovated vs unrenovated houses\",  fontsize = 18)\n",
    "plt.xlim(0.5,3.5)\n",
    "plt.ylim(0,440)\n",
    "#plt.xticks([1,2,3],[\"All price classes, King County\", \"Expensive, King County\", \"Expensive, Center\"], fontsize = 16)\n",
    "plt.xticks([1,2],[\"All price classes, King County\", \"Expensive, King County\"], fontsize = 16)\n",
    "\n",
    "plt.yticks(fontsize = 16)\n",
    "plt.ylabel(\"Price per sqft living space\", fontsize = 16)\n",
    "\n",
    "\n",
    "# Bar 1\n",
    "plt.bar(x = 1, height = 262.10, color = 'r', label = \"not renovated\")\n",
    "plt.bar(x = 1, height = 321.34 - 262.10, bottom = 262.10, color = \"b\", label = \"renovated\")\n",
    "plt.text(1, 331, \"+ 18 %\", va=\"center\", ha=\"center\", weight = \"bold\", fontsize = 16)\n",
    "\n",
    "#Bar 2\n",
    "plt.bar(x = 2, height = 345.86, color = 'r')\n",
    "plt.bar(x = 2, height = 404.57 - 345.86, bottom = 345.86, color = \"b\")\n",
    "plt.text(2, 415.5, \"+ 15 %\", va=\"center\", ha=\"center\", weight = \"bold\",  fontsize = 16)\n",
    "\n",
    "# # Bar 3\n",
    "# plt.bar(x = 3, height = 402.89, color = 'b')\n",
    "# plt.bar(x = 3, height = 410.58 - 402.89, bottom = 402.89, color = \"r\")\n",
    "# plt.text(3, 420, \"- 2 %\", va=\"center\", ha=\"center\", weight = \"bold\",  fontsize = 16)\n",
    "\n",
    "legend = plt.legend(frameon=False, ncol=2,loc = \"center\", fontsize = 16)\n",
    "legend.set_bbox_to_anchor((0.5, -0.13))\n"
   ]
  }
 ],
 "metadata": {
  "kernelspec": {
   "display_name": ".venv",
   "language": "python",
   "name": "python3"
  },
  "language_info": {
   "codemirror_mode": {
    "name": "ipython",
    "version": 3
   },
   "file_extension": ".py",
   "mimetype": "text/x-python",
   "name": "python",
   "nbconvert_exporter": "python",
   "pygments_lexer": "ipython3",
   "version": "3.9.8"
  },
  "orig_nbformat": 4
 },
 "nbformat": 4,
 "nbformat_minor": 2
}
